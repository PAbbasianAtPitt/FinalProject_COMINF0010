{
 "cells": [
  {
   "cell_type": "markdown",
   "metadata": {},
   "source": [
    "# The best neighborhood in Pittsburgh?"
   ]
  },
  {
   "cell_type": "markdown",
   "metadata": {},
   "source": [
    "## Group 1\n",
    "* Peyman Abbasian\n",
    "* Diana M Randall\n",
    "* Alexander L Freiwald "
   ]
  },
  {
   "cell_type": "markdown",
   "metadata": {},
   "source": [
    "![alt text](https://media.giphy.com/media/dxgEz5tWSRMk1tsyrt/giphy.gif)"
   ]
  },
  {
   "cell_type": "markdown",
   "metadata": {},
   "source": [
    "## Introduction\n",
    "\n",
    "By using dataset that provided by the WPRDC, I will show which neighborhood in Pittsburgh is the best in field of restaurants.\n",
    "\n",
    "## The Metric\n",
    "I use following items as metric to prove my claim:\n",
    "* number of restaruants in each neighborhood\n",
    "* Number of seat of restaurants\n",
    "* area of restaurants\n",
    "---"
   ]
  },
  {
   "cell_type": "markdown",
   "metadata": {},
   "source": [
    "## Data"
   ]
  },
  {
   "cell_type": "markdown",
   "metadata": {},
   "source": [
    " The database used is proviede by the http://www.wprdc.org/news/so-you-want-to-use-open-data/ website."
   ]
  },
  {
   "cell_type": "code",
   "execution_count": 1,
   "metadata": {},
   "outputs": [],
   "source": [
    "import pandas as pd\n",
    "import numpy as np\n",
    "%matplotlib inline\n",
    "import matplotlib.pyplot as plt"
   ]
  },
  {
   "cell_type": "code",
   "execution_count": 39,
   "metadata": {},
   "outputs": [
    {
     "data": {
      "text/html": [
       "<div>\n",
       "<style scoped>\n",
       "    .dataframe tbody tr th:only-of-type {\n",
       "        vertical-align: middle;\n",
       "    }\n",
       "\n",
       "    .dataframe tbody tr th {\n",
       "        vertical-align: top;\n",
       "    }\n",
       "\n",
       "    .dataframe thead th {\n",
       "        text-align: right;\n",
       "    }\n",
       "</style>\n",
       "<table border=\"1\" class=\"dataframe\">\n",
       "  <thead>\n",
       "    <tr style=\"text-align: right;\">\n",
       "      <th></th>\n",
       "      <th>id</th>\n",
       "      <th>facility_name</th>\n",
       "      <th>num</th>\n",
       "      <th>street</th>\n",
       "      <th>city</th>\n",
       "      <th>state</th>\n",
       "      <th>zip</th>\n",
       "      <th>municipal</th>\n",
       "      <th>category_cd</th>\n",
       "      <th>description</th>\n",
       "      <th>...</th>\n",
       "      <th>bus_st_date</th>\n",
       "      <th>bus_cl_date</th>\n",
       "      <th>seat_count</th>\n",
       "      <th>noroom</th>\n",
       "      <th>sq_feet</th>\n",
       "      <th>status</th>\n",
       "      <th>placard_st</th>\n",
       "      <th>x</th>\n",
       "      <th>y</th>\n",
       "      <th>address</th>\n",
       "    </tr>\n",
       "  </thead>\n",
       "  <tbody>\n",
       "    <tr>\n",
       "      <th>0</th>\n",
       "      <td>10762.0</td>\n",
       "      <td>North Versailles VFD / South Wilmerding Social...</td>\n",
       "      <td>830</td>\n",
       "      <td>Sylvan Ave</td>\n",
       "      <td>North Versailles</td>\n",
       "      <td>PA</td>\n",
       "      <td>15137.0</td>\n",
       "      <td>North Versailles</td>\n",
       "      <td>250</td>\n",
       "      <td>Social Club-Bar Only</td>\n",
       "      <td>...</td>\n",
       "      <td>1/1/1969</td>\n",
       "      <td>NaN</td>\n",
       "      <td>60.0</td>\n",
       "      <td>NaN</td>\n",
       "      <td>NaN</td>\n",
       "      <td>1</td>\n",
       "      <td>1.0</td>\n",
       "      <td>-79.795405</td>\n",
       "      <td>40.389344</td>\n",
       "      <td>830 Sylvan Ave North Versailles, PA 15137</td>\n",
       "    </tr>\n",
       "    <tr>\n",
       "      <th>1</th>\n",
       "      <td>10781.0</td>\n",
       "      <td>Hill Top Lodge #151</td>\n",
       "      <td>128-30</td>\n",
       "      <td>Ormsby Ave</td>\n",
       "      <td>Pittsburgh</td>\n",
       "      <td>PA</td>\n",
       "      <td>15210.0</td>\n",
       "      <td>Mt Oliver</td>\n",
       "      <td>250</td>\n",
       "      <td>Social Club-Bar Only</td>\n",
       "      <td>...</td>\n",
       "      <td>6/17/1984</td>\n",
       "      <td>NaN</td>\n",
       "      <td>35.0</td>\n",
       "      <td>NaN</td>\n",
       "      <td>NaN</td>\n",
       "      <td>7</td>\n",
       "      <td>NaN</td>\n",
       "      <td>NaN</td>\n",
       "      <td>NaN</td>\n",
       "      <td>128-30 Ormsby Ave Pittsburgh, PA 15210</td>\n",
       "    </tr>\n",
       "    <tr>\n",
       "      <th>2</th>\n",
       "      <td>10693.0</td>\n",
       "      <td>The Suburban Room</td>\n",
       "      <td>3113</td>\n",
       "      <td>W Liberty Ave</td>\n",
       "      <td>Pittsburgh</td>\n",
       "      <td>PA</td>\n",
       "      <td>15216.0</td>\n",
       "      <td>Dormont</td>\n",
       "      <td>201</td>\n",
       "      <td>Restaurant with Liquor</td>\n",
       "      <td>...</td>\n",
       "      <td>6/17/1984</td>\n",
       "      <td>NaN</td>\n",
       "      <td>41.0</td>\n",
       "      <td>NaN</td>\n",
       "      <td>NaN</td>\n",
       "      <td>7</td>\n",
       "      <td>1.0</td>\n",
       "      <td>NaN</td>\n",
       "      <td>NaN</td>\n",
       "      <td>3113 W Liberty Ave Pittsburgh, PA 15216</td>\n",
       "    </tr>\n",
       "    <tr>\n",
       "      <th>3</th>\n",
       "      <td>10707.0</td>\n",
       "      <td>Hyd A Way Bar</td>\n",
       "      <td>NaN</td>\n",
       "      <td>Box 39</td>\n",
       "      <td>Morgan</td>\n",
       "      <td>PA</td>\n",
       "      <td>15064.0</td>\n",
       "      <td>South Fayette</td>\n",
       "      <td>201</td>\n",
       "      <td>Restaurant with Liquor</td>\n",
       "      <td>...</td>\n",
       "      <td>3/1/1987</td>\n",
       "      <td>NaN</td>\n",
       "      <td>30.0</td>\n",
       "      <td>NaN</td>\n",
       "      <td>NaN</td>\n",
       "      <td>7</td>\n",
       "      <td>NaN</td>\n",
       "      <td>NaN</td>\n",
       "      <td>NaN</td>\n",
       "      <td>Box 39 Morgan, PA 15064</td>\n",
       "    </tr>\n",
       "    <tr>\n",
       "      <th>4</th>\n",
       "      <td>10711.0</td>\n",
       "      <td>Bratstvo Lodge #6 SNPJ</td>\n",
       "      <td>540</td>\n",
       "      <td>3rd  Avenue</td>\n",
       "      <td>Bridgeville</td>\n",
       "      <td>PA</td>\n",
       "      <td>15017.0</td>\n",
       "      <td>Bridgeville</td>\n",
       "      <td>201</td>\n",
       "      <td>Restaurant with Liquor</td>\n",
       "      <td>...</td>\n",
       "      <td>6/17/1984</td>\n",
       "      <td>NaN</td>\n",
       "      <td>75.0</td>\n",
       "      <td>NaN</td>\n",
       "      <td>NaN</td>\n",
       "      <td>1</td>\n",
       "      <td>1.0</td>\n",
       "      <td>-80.135182</td>\n",
       "      <td>40.355927</td>\n",
       "      <td>540 3rd  Avenue Bridgeville, PA 15017</td>\n",
       "    </tr>\n",
       "    <tr>\n",
       "      <th>5</th>\n",
       "      <td>10730.0</td>\n",
       "      <td>Aleppo Firemens Club</td>\n",
       "      <td>NaN</td>\n",
       "      <td>Weber Rd</td>\n",
       "      <td>Sewickley</td>\n",
       "      <td>PA</td>\n",
       "      <td>15143.0</td>\n",
       "      <td>Aleppo</td>\n",
       "      <td>250</td>\n",
       "      <td>Social Club-Bar Only</td>\n",
       "      <td>...</td>\n",
       "      <td>6/17/1984</td>\n",
       "      <td>NaN</td>\n",
       "      <td>75.0</td>\n",
       "      <td>NaN</td>\n",
       "      <td>NaN</td>\n",
       "      <td>7</td>\n",
       "      <td>NaN</td>\n",
       "      <td>NaN</td>\n",
       "      <td>NaN</td>\n",
       "      <td>Weber Rd Sewickley, PA 15143</td>\n",
       "    </tr>\n",
       "    <tr>\n",
       "      <th>6</th>\n",
       "      <td>10734.0</td>\n",
       "      <td>Holiday Park Volunteer Fire Dept</td>\n",
       "      <td>415</td>\n",
       "      <td>Abers Creek Road</td>\n",
       "      <td>Pittsburgh</td>\n",
       "      <td>PA</td>\n",
       "      <td>15239.0</td>\n",
       "      <td>Plum</td>\n",
       "      <td>408</td>\n",
       "      <td>Firehall with Liquor</td>\n",
       "      <td>...</td>\n",
       "      <td>1/1/1957</td>\n",
       "      <td>NaN</td>\n",
       "      <td>125.0</td>\n",
       "      <td>NaN</td>\n",
       "      <td>NaN</td>\n",
       "      <td>1</td>\n",
       "      <td>1.0</td>\n",
       "      <td>NaN</td>\n",
       "      <td>NaN</td>\n",
       "      <td>415 Abers Creek Road Pittsburgh, PA 15239</td>\n",
       "    </tr>\n",
       "    <tr>\n",
       "      <th>7</th>\n",
       "      <td>10655.0</td>\n",
       "      <td>Ames</td>\n",
       "      <td>5775</td>\n",
       "      <td>Baptist Rd</td>\n",
       "      <td>Bethel Park</td>\n",
       "      <td>PA</td>\n",
       "      <td>15102.0</td>\n",
       "      <td>Bethel Park</td>\n",
       "      <td>212</td>\n",
       "      <td>Chain Restaurant without Liquor</td>\n",
       "      <td>...</td>\n",
       "      <td>4/15/1999</td>\n",
       "      <td>NaN</td>\n",
       "      <td>13.0</td>\n",
       "      <td>NaN</td>\n",
       "      <td>NaN</td>\n",
       "      <td>7</td>\n",
       "      <td>NaN</td>\n",
       "      <td>-80.014728</td>\n",
       "      <td>40.348882</td>\n",
       "      <td>5775 Baptist Rd Bethel Park, PA 15102</td>\n",
       "    </tr>\n",
       "    <tr>\n",
       "      <th>8</th>\n",
       "      <td>10664.0</td>\n",
       "      <td>B P O E / Elks Club #2213</td>\n",
       "      <td>2425</td>\n",
       "      <td>South Park Road</td>\n",
       "      <td>Bethel Park</td>\n",
       "      <td>PA</td>\n",
       "      <td>15102.0</td>\n",
       "      <td>Bethel Park</td>\n",
       "      <td>201</td>\n",
       "      <td>Restaurant with Liquor</td>\n",
       "      <td>...</td>\n",
       "      <td>1/1/1989</td>\n",
       "      <td>9/28/2017</td>\n",
       "      <td>70.0</td>\n",
       "      <td>NaN</td>\n",
       "      <td>NaN</td>\n",
       "      <td>7</td>\n",
       "      <td>1.0</td>\n",
       "      <td>-80.023115</td>\n",
       "      <td>40.329327</td>\n",
       "      <td>2425 South Park Road Bethel Park, PA 15102</td>\n",
       "    </tr>\n",
       "    <tr>\n",
       "      <th>9</th>\n",
       "      <td>10668.0</td>\n",
       "      <td>Bridgeville Dari Delite</td>\n",
       "      <td>413</td>\n",
       "      <td>Bower Hill Rd</td>\n",
       "      <td>Bridgeville</td>\n",
       "      <td>PA</td>\n",
       "      <td>15017.0</td>\n",
       "      <td>Bridgeville</td>\n",
       "      <td>211</td>\n",
       "      <td>Restaurant without Liquor</td>\n",
       "      <td>...</td>\n",
       "      <td>6/17/1984</td>\n",
       "      <td>NaN</td>\n",
       "      <td>0.0</td>\n",
       "      <td>NaN</td>\n",
       "      <td>NaN</td>\n",
       "      <td>7</td>\n",
       "      <td>NaN</td>\n",
       "      <td>-80.109894</td>\n",
       "      <td>40.359431</td>\n",
       "      <td>413 Bower Hill Rd Bridgeville, PA 15017</td>\n",
       "    </tr>\n",
       "  </tbody>\n",
       "</table>\n",
       "<p>10 rows × 22 columns</p>\n",
       "</div>"
      ],
      "text/plain": [
       "        id                                      facility_name     num  \\\n",
       "0  10762.0  North Versailles VFD / South Wilmerding Social...     830   \n",
       "1  10781.0                                Hill Top Lodge #151  128-30   \n",
       "2  10693.0                                  The Suburban Room    3113   \n",
       "3  10707.0                                      Hyd A Way Bar     NaN   \n",
       "4  10711.0                             Bratstvo Lodge #6 SNPJ     540   \n",
       "5  10730.0                               Aleppo Firemens Club     NaN   \n",
       "6  10734.0                   Holiday Park Volunteer Fire Dept     415   \n",
       "7  10655.0                                               Ames    5775   \n",
       "8  10664.0                         B P O E / Elks Club #2213     2425   \n",
       "9  10668.0                            Bridgeville Dari Delite     413   \n",
       "\n",
       "             street              city state      zip         municipal  \\\n",
       "0        Sylvan Ave  North Versailles    PA  15137.0  North Versailles   \n",
       "1        Ormsby Ave        Pittsburgh    PA  15210.0         Mt Oliver   \n",
       "2     W Liberty Ave        Pittsburgh    PA  15216.0           Dormont   \n",
       "3            Box 39            Morgan    PA  15064.0     South Fayette   \n",
       "4       3rd  Avenue       Bridgeville    PA  15017.0       Bridgeville   \n",
       "5          Weber Rd         Sewickley    PA  15143.0            Aleppo   \n",
       "6  Abers Creek Road        Pittsburgh    PA  15239.0              Plum   \n",
       "7        Baptist Rd       Bethel Park    PA  15102.0       Bethel Park   \n",
       "8   South Park Road       Bethel Park    PA  15102.0       Bethel Park   \n",
       "9     Bower Hill Rd       Bridgeville    PA  15017.0       Bridgeville   \n",
       "\n",
       "   category_cd                      description  ...  bus_st_date bus_cl_date  \\\n",
       "0          250             Social Club-Bar Only  ...     1/1/1969         NaN   \n",
       "1          250             Social Club-Bar Only  ...    6/17/1984         NaN   \n",
       "2          201           Restaurant with Liquor  ...    6/17/1984         NaN   \n",
       "3          201           Restaurant with Liquor  ...     3/1/1987         NaN   \n",
       "4          201           Restaurant with Liquor  ...    6/17/1984         NaN   \n",
       "5          250             Social Club-Bar Only  ...    6/17/1984         NaN   \n",
       "6          408             Firehall with Liquor  ...     1/1/1957         NaN   \n",
       "7          212  Chain Restaurant without Liquor  ...    4/15/1999         NaN   \n",
       "8          201           Restaurant with Liquor  ...     1/1/1989   9/28/2017   \n",
       "9          211        Restaurant without Liquor  ...    6/17/1984         NaN   \n",
       "\n",
       "  seat_count noroom  sq_feet  status  placard_st          x          y  \\\n",
       "0       60.0    NaN      NaN       1         1.0 -79.795405  40.389344   \n",
       "1       35.0    NaN      NaN       7         NaN        NaN        NaN   \n",
       "2       41.0    NaN      NaN       7         1.0        NaN        NaN   \n",
       "3       30.0    NaN      NaN       7         NaN        NaN        NaN   \n",
       "4       75.0    NaN      NaN       1         1.0 -80.135182  40.355927   \n",
       "5       75.0    NaN      NaN       7         NaN        NaN        NaN   \n",
       "6      125.0    NaN      NaN       1         1.0        NaN        NaN   \n",
       "7       13.0    NaN      NaN       7         NaN -80.014728  40.348882   \n",
       "8       70.0    NaN      NaN       7         1.0 -80.023115  40.329327   \n",
       "9        0.0    NaN      NaN       7         NaN -80.109894  40.359431   \n",
       "\n",
       "                                      address  \n",
       "0   830 Sylvan Ave North Versailles, PA 15137  \n",
       "1      128-30 Ormsby Ave Pittsburgh, PA 15210  \n",
       "2     3113 W Liberty Ave Pittsburgh, PA 15216  \n",
       "3                     Box 39 Morgan, PA 15064  \n",
       "4       540 3rd  Avenue Bridgeville, PA 15017  \n",
       "5                Weber Rd Sewickley, PA 15143  \n",
       "6   415 Abers Creek Road Pittsburgh, PA 15239  \n",
       "7       5775 Baptist Rd Bethel Park, PA 15102  \n",
       "8  2425 South Park Road Bethel Park, PA 15102  \n",
       "9     413 Bower Hill Rd Bridgeville, PA 15017  \n",
       "\n",
       "[10 rows x 22 columns]"
      ]
     },
     "execution_count": 39,
     "metadata": {},
     "output_type": "execute_result"
    }
   ],
   "source": [
    "restaurant = pd.read_csv(\"restaurant01.csv\")\n",
    "restaurant.head(10)"
   ]
  },
  {
   "cell_type": "markdown",
   "metadata": {},
   "source": [
    "* Let check what kind of data type the restuaruant.csv has."
   ]
  },
  {
   "cell_type": "code",
   "execution_count": 36,
   "metadata": {},
   "outputs": [
    {
     "name": "stdout",
     "output_type": "stream",
     "text": [
      "<class 'pandas.core.frame.DataFrame'>\n",
      "RangeIndex: 25829 entries, 0 to 25828\n",
      "Data columns (total 22 columns):\n",
      " #   Column         Non-Null Count  Dtype  \n",
      "---  ------         --------------  -----  \n",
      " 0   id             25829 non-null  float64\n",
      " 1   facility_name  25829 non-null  object \n",
      " 2   num            25032 non-null  object \n",
      " 3   street         25823 non-null  object \n",
      " 4   city           25820 non-null  object \n",
      " 5   state          25820 non-null  object \n",
      " 6   zip            25820 non-null  float64\n",
      " 7   municipal      25823 non-null  object \n",
      " 8   category_cd    25829 non-null  int64  \n",
      " 9   description    25829 non-null  object \n",
      " 10  p_code         25785 non-null  float64\n",
      " 11  fdo            25771 non-null  object \n",
      " 12  bus_st_date    25750 non-null  object \n",
      " 13  bus_cl_date    6438 non-null   object \n",
      " 14  seat_count     14141 non-null  float64\n",
      " 15  noroom         984 non-null    float64\n",
      " 16  sq_feet        10848 non-null  float64\n",
      " 17  status         25829 non-null  int64  \n",
      " 18  placard_st     15870 non-null  float64\n",
      " 19  x              19354 non-null  float64\n",
      " 20  y              19354 non-null  float64\n",
      " 21  address        25829 non-null  object \n",
      "dtypes: float64(9), int64(2), object(11)\n",
      "memory usage: 4.3+ MB\n"
     ]
    }
   ],
   "source": [
    "restaurant.info()"
   ]
  },
  {
   "cell_type": "markdown",
   "metadata": {},
   "source": [
    "---\n",
    "## number of restaruants in each neighborhood"
   ]
  },
  {
   "cell_type": "markdown",
   "metadata": {},
   "source": [
    "* In this part, the number of restuarant in each municipal will be shown and then print the list of them descendingly:"
   ]
  },
  {
   "cell_type": "code",
   "execution_count": 3,
   "metadata": {},
   "outputs": [
    {
     "data": {
      "text/plain": [
       "municipal\n",
       "Pittsburgh-102       1219\n",
       "Pittsburgh-104        797\n",
       "Monroeville           750\n",
       "Ross                  691\n",
       "Pittsburgh-101        628\n",
       "                     ... \n",
       "Osborne                 1\n",
       "Sewickley Heights       1\n",
       "Ben Avon Hgts           1\n",
       "Haysville               1\n",
       "Glenfield               1\n",
       "Name: city, Length: 161, dtype: int64"
      ]
     },
     "execution_count": 3,
     "metadata": {},
     "output_type": "execute_result"
    }
   ],
   "source": [
    "restuarants_number = restaurant.groupby(\"municipal\").count().loc[:, \"city\"].sort_values(ascending=False)\n",
    "restuarants_number[:]"
   ]
  },
  {
   "cell_type": "markdown",
   "metadata": {},
   "source": [
    "* Now, the graph of for data above is:"
   ]
  },
  {
   "cell_type": "code",
   "execution_count": 4,
   "metadata": {},
   "outputs": [
    {
     "data": {
      "text/plain": [
       "<matplotlib.axes._subplots.AxesSubplot at 0x7fcb04313550>"
      ]
     },
     "execution_count": 4,
     "metadata": {},
     "output_type": "execute_result"
    },
    {
     "data": {
      "image/png": "[encoded data removed]",
      "text/plain": [
       "<Figure size 1800x720 with 1 Axes>"
      ]
     },
     "metadata": {
      "needs_background": "light"
     },
     "output_type": "display_data"
    }
   ],
   "source": [
    "restuarants_number.plot(kind=\"bar\",figsize = (25,10))"
   ]
  },
  {
   "cell_type": "markdown",
   "metadata": {},
   "source": [
    "* Beacause there are lots of municipal, lets focus on first ten of them:"
   ]
  },
  {
   "cell_type": "code",
   "execution_count": 5,
   "metadata": {},
   "outputs": [
    {
     "data": {
      "text/plain": [
       "municipal\n",
       "Pittsburgh-102    1219\n",
       "Pittsburgh-104     797\n",
       "Monroeville        750\n",
       "Ross               691\n",
       "Pittsburgh-101     628\n",
       "Penn Hills         600\n",
       "Pittsburgh-122     599\n",
       "Pittsburgh-114     585\n",
       "Pittsburgh-119     571\n",
       "West Mifflin       557\n",
       "Name: city, dtype: int64"
      ]
     },
     "execution_count": 5,
     "metadata": {},
     "output_type": "execute_result"
    }
   ],
   "source": [
    "restuarants_number[:10]"
   ]
  },
  {
   "cell_type": "code",
   "execution_count": 29,
   "metadata": {},
   "outputs": [
    {
     "data": {
      "text/plain": [
       "Text(0, 0.5, 'Number')"
      ]
     },
     "execution_count": 29,
     "metadata": {},
     "output_type": "execute_result"
    },
    {
     "data": {
      "image/png": "[encoded data removed]",
      "text/plain": [
       "<Figure size 720x504 with 1 Axes>"
      ]
     },
     "metadata": {
      "needs_background": "light"
     },
     "output_type": "display_data"
    }
   ],
   "source": [
    "restuarants_number[:10].plot(kind=\"bar\",figsize = (10,7))\n",
    "plt.title(\"Number of Restaurant in each municipal\")\n",
    "plt.xlabel(\"Municipal\")\n",
    "plt.ylabel(\"Number\")"
   ]
  },
  {
   "cell_type": "markdown",
   "metadata": {},
   "source": [
    "By statistically examining the number of resturants in the each municipal, the top 5 of the best neighborhoods can be classified as follow:\n",
    "1. Pittsburgh 102\n",
    "2. Pittsburgh 104\n",
    "3. Monroeville\n",
    "4. Ross\n",
    "5. Pittsburgh 101"
   ]
  },
  {
   "cell_type": "markdown",
   "metadata": {},
   "source": [
    "---\n",
    "## Number of seats"
   ]
  },
  {
   "cell_type": "markdown",
   "metadata": {},
   "source": [
    "* In this part the total number of seats of first ten restaurnts in each municipal will be showen:"
   ]
  },
  {
   "cell_type": "code",
   "execution_count": 7,
   "metadata": {},
   "outputs": [
    {
     "data": {
      "text/plain": [
       "municipal\n",
       "Pittsburgh-102    57597.0\n",
       "Monroeville       27542.0\n",
       "Pittsburgh-104    24742.0\n",
       "Robinson          23759.0\n",
       "Pittsburgh-101    23126.0\n",
       "Moon              22198.0\n",
       "Pittsburgh-119    22043.0\n",
       "Ross              21890.0\n",
       "West Mifflin      16513.0\n",
       "Pittsburgh-122    16321.0\n",
       "Name: seat_count, dtype: float64"
      ]
     },
     "execution_count": 7,
     "metadata": {},
     "output_type": "execute_result"
    }
   ],
   "source": [
    "restuarants_seats = restaurant.groupby(\"municipal\").sum().loc[:, \"seat_count\"].sort_values(ascending=False)\n",
    "restuarants_seats[:10]"
   ]
  },
  {
   "cell_type": "markdown",
   "metadata": {},
   "source": [
    "* The graph for this part is:"
   ]
  },
  {
   "cell_type": "code",
   "execution_count": 30,
   "metadata": {},
   "outputs": [
    {
     "data": {
      "text/plain": [
       "Text(0, 0.5, 'Number of seats')"
      ]
     },
     "execution_count": 30,
     "metadata": {},
     "output_type": "execute_result"
    },
    {
     "data": {
      "image/png": "[encoded data removed]",
      "text/plain": [
       "<Figure size 720x504 with 1 Axes>"
      ]
     },
     "metadata": {
      "needs_background": "light"
     },
     "output_type": "display_data"
    }
   ],
   "source": [
    "restuarants_seats[:10].plot(kind=\"bar\",figsize = (10,7))\n",
    "plt.title(\"Number of Restaurant's seats in each municipal\")\n",
    "plt.xlabel(\"Municipal\")\n",
    "plt.ylabel(\"Number of seats\")"
   ]
  },
  {
   "cell_type": "markdown",
   "metadata": {},
   "source": [
    "By statistically examining the number of seats in the each municipal, the top 5 of the best neighborhoods can be classified as follow:\n",
    "1. Pittsburgh 102\n",
    "2. Monroeville\n",
    "3. Pittsburgh 104\n",
    "4. Robinson\n",
    "5. Pittsburgh 101"
   ]
  },
  {
   "cell_type": "markdown",
   "metadata": {},
   "source": [
    "---\n",
    "## Area of resturants"
   ]
  },
  {
   "cell_type": "markdown",
   "metadata": {},
   "source": [
    "* In this part the total area of the first ten restaurnts in each municipal will be showen:"
   ]
  },
  {
   "cell_type": "code",
   "execution_count": 9,
   "metadata": {},
   "outputs": [
    {
     "data": {
      "text/plain": [
       "municipal\n",
       "Pittsburgh-123    2809924.0\n",
       "Pittsburgh-102    1119390.0\n",
       "Findlay           1096080.0\n",
       "Pittsburgh-128    1049689.0\n",
       "West Mifflin       944971.0\n",
       "Bethel Park        788768.0\n",
       "Harmar             752419.0\n",
       "Monroeville        718248.0\n",
       "Ross               687462.0\n",
       "Robinson           634532.0\n",
       "Name: sq_feet, dtype: float64"
      ]
     },
     "execution_count": 9,
     "metadata": {},
     "output_type": "execute_result"
    }
   ],
   "source": [
    "restuarants_sqft = restaurant.groupby(\"municipal\").sum().loc[:, \"sq_feet\"].sort_values(ascending=False)\n",
    "restuarants_sqft[:10]\n"
   ]
  },
  {
   "cell_type": "markdown",
   "metadata": {},
   "source": [
    "* The graph for this part is:"
   ]
  },
  {
   "cell_type": "code",
   "execution_count": 31,
   "metadata": {},
   "outputs": [
    {
     "data": {
      "text/plain": [
       "Text(0, 0.5, 'Area')"
      ]
     },
     "execution_count": 31,
     "metadata": {},
     "output_type": "execute_result"
    },
    {
     "data": {
      "image/png": "[encoded data removed]",
      "text/plain": [
       "<Figure size 720x504 with 1 Axes>"
      ]
     },
     "metadata": {
      "needs_background": "light"
     },
     "output_type": "display_data"
    }
   ],
   "source": [
    "restuarants_sqft[:10].plot(kind=\"bar\",figsize = (10,7))\n",
    "plt.title(\"Area of resturants in each municipal\")\n",
    "plt.xlabel(\"Municipal\")\n",
    "plt.ylabel(\"Area\")"
   ]
  },
  {
   "cell_type": "markdown",
   "metadata": {},
   "source": [
    "By statistically examining the area of resturants in the each municipal, the top 5 of the best neighborhoods can be classified as follow:\n",
    "1. Pittsburgh 123\n",
    "2. Pittsburgh 102\n",
    "3. Findlay\n",
    "4. Pittsburgh 128\n",
    "5. West Mifflin"
   ]
  },
  {
   "cell_type": "markdown",
   "metadata": {},
   "source": [
    "---\n",
    "## Conclusion"
   ]
  },
  {
   "cell_type": "markdown",
   "metadata": {},
   "source": [
    "In conclusion, according to the results of statistical data, I must say Pittsburgh 102 is our the best neighborhood in the feild of restaurant and food servivve. I concluded this because Pittsburgh 102 gets the frist ranking in the number of restaurant and number of seats and second ranking in the area."
   ]
  },
  {
   "cell_type": "markdown",
   "metadata": {},
   "source": [
    "![alt text](https://media.giphy.com/media/YMphNUNP0PYHWhtVQS/giphy.gif) "
   ]
  },
  {
   "cell_type": "code",
   "execution_count": null,
   "metadata": {},
   "outputs": [],
   "source": []
  }
 ],
 "metadata": {
  "kernelspec": {
   "display_name": "Python 3",
   "language": "python",
   "name": "python3"
  },
  "language_info": {
   "codemirror_mode": {
    "name": "ipython",
    "version": 3
   },
   "file_extension": ".py",
   "mimetype": "text/x-python",
   "name": "python",
   "nbconvert_exporter": "python",
   "pygments_lexer": "ipython3",
   "version": "3.8.3"
  }
 },
 "nbformat": 4,
 "nbformat_minor": 4
}
